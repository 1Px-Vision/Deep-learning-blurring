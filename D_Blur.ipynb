{
  "nbformat": 4,
  "nbformat_minor": 0,
  "metadata": {
    "colab": {
      "provenance": [],
      "gpuType": "T4"
    },
    "kernelspec": {
      "name": "python3",
      "display_name": "Python 3"
    },
    "language_info": {
      "name": "python"
    },
    "accelerator": "GPU"
  },
  "cells": [
    {
      "cell_type": "code",
      "source": [
        "!pip install wget"
      ],
      "metadata": {
        "id": "cZVLooCCYfbV"
      },
      "execution_count": null,
      "outputs": []
    },
    {
      "cell_type": "code",
      "execution_count": null,
      "metadata": {
        "id": "cRxaM-4DQt5q"
      },
      "outputs": [],
      "source": [
        "import torch\n",
        "import torch.nn as nn\n",
        "import torch.optim as optim\n",
        "from torch.utils.data import DataLoader\n",
        "from torchvision import datasets, transforms\n",
        "from torchvision.utils import save_image\n",
        "\n",
        "# Define the U-Net architecture\n",
        "class UNet(nn.Module):\n",
        "    def __init__(self):\n",
        "        super(UNet, self).__init__()\n",
        "        self.encoder = nn.Sequential(\n",
        "            nn.Conv2d(1, 64, kernel_size=3, stride=1, padding=1),\n",
        "            nn.ReLU(inplace=True),\n",
        "            nn.Conv2d(64, 64, kernel_size=3, stride=1, padding=1),\n",
        "            nn.ReLU(inplace=True),\n",
        "            nn.MaxPool2d(kernel_size=2, stride=2)\n",
        "        )\n",
        "        self.decoder = nn.Sequential(\n",
        "            nn.Conv2d(64, 64, kernel_size=3, stride=1, padding=1),\n",
        "            nn.ReLU(inplace=True),\n",
        "            nn.Conv2d(64, 1, kernel_size=3, stride=1, padding=1),\n",
        "            nn.ReLU(inplace=True),\n",
        "            nn.Upsample(scale_factor=2, mode='bilinear', align_corners=True)\n",
        "        )\n",
        "\n",
        "    def forward(self, x):\n",
        "        x1 = self.encoder(x)\n",
        "        x2 = self.decoder(x1)\n",
        "        return x2\n",
        "\n",
        "# Define the backward blur diffusion module\n",
        "class BackwardBlurDDPM(nn.Module):\n",
        "    def __init__(self):\n",
        "        super(BackwardBlurDDPM, self).__init__()\n",
        "        # Define the blur kernel\n",
        "        self.kernel = nn.Parameter(torch.ones(1, 1, 3, 3) / 5)\n",
        "\n",
        "    def forward(self, x):\n",
        "        # Apply backward blur diffusion\n",
        "        blurred_x = nn.functional.conv2d(x, self.kernel, padding=1, groups=1)\n",
        "        return blurred_x\n",
        "\n",
        "# Define the training loop\n",
        "def train(model, device, train_loader, optimizer, epoch):\n",
        "    model.train()\n",
        "    criterion = nn.MSELoss()\n",
        "    for batch_idx, (data, _) in enumerate(train_loader):\n",
        "        data = data.to(device)\n",
        "        optimizer.zero_grad()\n",
        "        output = model(data)\n",
        "        loss = criterion(output, data)\n",
        "        loss.backward()\n",
        "        optimizer.step()\n",
        "        if batch_idx % 100 == 0:\n",
        "            print('Train Epoch: {} [{}/{} ({:.0f}%)]\\tLoss: {:.6f}'.format(\n",
        "                epoch, batch_idx * len(data), len(train_loader.dataset),\n",
        "                100. * batch_idx / len(train_loader), loss.item()))\n",
        "\n",
        "# Define the device\n",
        "device = torch.device(\"cuda\" if torch.cuda.is_available() else \"cpu\")\n",
        "\n",
        "# Load the MNIST dataset\n",
        "transform = transforms.Compose([\n",
        "    transforms.ToTensor(),\n",
        "    transforms.Normalize((0.1307,), (0.3081,))\n",
        "])\n",
        "train_dataset = datasets.MNIST(root='./data', train=True, download=True, transform=transform)\n",
        "train_loader = DataLoader(train_dataset, batch_size=64, shuffle=True)\n",
        "\n",
        "# Create the U-Net model and backward blur diffusion module\n",
        "model = UNet().to(device)\n",
        "blur_module = BackwardBlurDDPM().to(device)\n",
        "\n",
        "# Create the optimizer\n",
        "optimizer = optim.Adam(model.parameters(), lr=1e-3)\n",
        "\n",
        "# Train the model\n",
        "num_epochs = 10\n",
        "for epoch in range(1, num_epochs + 1):\n",
        "    train(model, device, train_loader, optimizer, epoch)\n",
        "\n",
        "# Save some example images\n",
        "with torch.no_grad():\n",
        "    sample = next(iter(train_loader))[0].to(device)\n",
        "    output = model(sample)\n",
        "    save_image(torch.cat([sample, output], dim=0), 'output.png', nrow=8)\n"
      ]
    },
    {
      "cell_type": "code",
      "source": [
        "import matplotlib.pyplot as plt\n",
        "plt.subplot(1, 2, 1)\n",
        "plt.imshow(sample.squeeze().cpu().numpy()[0])\n",
        "\n",
        "plt.subplot(1, 2, 2)\n",
        "plt.imshow(output.squeeze().cpu().numpy()[0])\n"
      ],
      "metadata": {
        "id": "i6_78NqCXsY2"
      },
      "execution_count": null,
      "outputs": []
    },
    {
      "cell_type": "code",
      "source": [
        "import torch\n",
        "import torch.nn as nn\n",
        "import torch.optim as optim\n",
        "from torch.utils.data import DataLoader\n",
        "from torchvision import datasets, transforms\n",
        "from torchvision.utils import save_image\n",
        "import cv2"
      ],
      "metadata": {
        "id": "EJDoREyYTY86"
      },
      "execution_count": null,
      "outputs": []
    },
    {
      "cell_type": "markdown",
      "source": [
        "**Pre_train**"
      ],
      "metadata": {
        "id": "0U6WgZukYZIL"
      }
    },
    {
      "cell_type": "code",
      "source": [
        "import wget\n",
        "import zipfile\n",
        "import os\n",
        "import shutil\n",
        "\n",
        "# Define the URL and file name of the dataset\n",
        "dataset_url = \"http://www.ee.surrey.ac.uk/CVSSP/demos/chars74k/EnglishImg.tgz\"\n",
        "dataset_file = \"EnglishImg.tgz\"\n",
        "\n",
        "# Define the directory to store the dataset\n",
        "dataset_dir = \"Chars74K\"\n",
        "\n",
        "# Create the dataset directory if it doesn't exist\n",
        "if not os.path.exists(dataset_dir):\n",
        "    os.makedirs(dataset_dir)\n",
        "\n",
        "# Download the dataset file\n",
        "print(\"Downloading Chars74K dataset...\")\n",
        "wget.download(dataset_url, out=os.path.join(dataset_dir, dataset_file))\n",
        "print(\"\\nDataset downloaded successfully!\")\n",
        "\n",
        "# Extract the dataset\n",
        "\n",
        "print(\"Extracting dataset...\")\n",
        "shutil.unpack_archive(os.path.join(dataset_dir, dataset_file), dataset_dir)\n",
        "print(\"Dataset extracted successfully!\")\n",
        "train_data_dir = os.path.join(dataset_dir, \"English/Fnt\")"
      ],
      "metadata": {
        "id": "pMTAhlj9Ybka"
      },
      "execution_count": null,
      "outputs": []
    },
    {
      "cell_type": "code",
      "source": [
        "!python preprocessing.py /content/Chars74K/English -s /content/Train_good/train"
      ],
      "metadata": {
        "id": "7Df-bdGYaPok"
      },
      "execution_count": null,
      "outputs": []
    },
    {
      "cell_type": "code",
      "source": [],
      "metadata": {
        "id": "oi_FchHebmZD"
      },
      "execution_count": null,
      "outputs": []
    },
    {
      "cell_type": "code",
      "source": [
        "# Define the U-Net architecture\n",
        "class UNet(nn.Module):\n",
        "    def __init__(self):\n",
        "        super(UNet, self).__init__()\n",
        "        self.encoder = nn.Sequential(\n",
        "            nn.Conv2d(1, 64, kernel_size=3, stride=1, padding=1),\n",
        "            nn.ReLU(inplace=True),\n",
        "            nn.Conv2d(64, 64, kernel_size=3, stride=1, padding=1),\n",
        "            nn.ReLU(inplace=True),\n",
        "            nn.MaxPool2d(kernel_size=2, stride=2)\n",
        "        )\n",
        "        self.decoder = nn.Sequential(\n",
        "            nn.Conv2d(64, 64, kernel_size=3, stride=1, padding=1),\n",
        "            nn.ReLU(inplace=True),\n",
        "            nn.Conv2d(64, 1, kernel_size=3, stride=1, padding=1),\n",
        "            nn.ReLU(inplace=True),\n",
        "            nn.Upsample(scale_factor=2, mode='bilinear', align_corners=True)\n",
        "        )\n",
        "        self.blur_module = BackwardBlurDDPM()\n",
        "\n",
        "    def forward_blurring(self, x):\n",
        "        blurred_x = self.blur_module(x)\n",
        "        return blurred_x\n",
        "\n",
        "    def forward(self, x):\n",
        "        x1 = self.encoder(x)\n",
        "        x2 = self.decoder(x1)\n",
        "        return x2\n",
        "\n",
        "# Define the backward blur diffusion module\n",
        "class BackwardBlurDDPM(nn.Module):\n",
        "    def __init__(self):\n",
        "        super(BackwardBlurDDPM, self).__init__()\n",
        "        # Define the blur kernel\n",
        "        self.kernel = nn.Parameter(torch.ones(1, 1, 3, 3) / 7)\n",
        "\n",
        "    def forward(self, x):\n",
        "        # Apply backward blur diffusion\n",
        "        blurred_x = nn.functional.conv2d(x, self.kernel, padding=1, groups=1)\n",
        "        return blurred_x\n",
        "\n",
        "    def backward_deblur_ddim(self, blurred_x):\n",
        "        # Apply backward deblurring using the blurred image\n",
        "        deblurred_x = nn.functional.conv_transpose2d(blurred_x, self.kernel, padding=1, groups=1)\n",
        "        return deblurred_x\n",
        "\n",
        "# Define the training loop\n",
        "def train(model, device, train_loader, optimizer, epoch):\n",
        "    model.train()\n",
        "    criterion = nn.MSELoss()\n",
        "    for batch_idx, (data, _) in enumerate(train_loader):\n",
        "        data = data.to(device)\n",
        "        optimizer.zero_grad()\n",
        "        output = model(data)\n",
        "        loss = criterion(output, data)\n",
        "        loss.backward()\n",
        "        optimizer.step()\n",
        "        if batch_idx % 100 == 0:\n",
        "            print('Train Epoch: {} [{}/{} ({:.0f}%)]\\tLoss: {:.6f}'.format(\n",
        "                epoch, batch_idx * len(data), len(train_loader.dataset),\n",
        "                100. * batch_idx / len(train_loader), loss.item()))\n",
        "\n",
        "# Define the device\n",
        "device = torch.device(\"cuda\" if torch.cuda.is_available() else \"cpu\")\n",
        "\n",
        "# Load the MNIST dataset\n",
        "transform = transforms.Compose([\n",
        "    transforms.ToTensor(),\n",
        "    transforms.Normalize((0.1307,), (0.3081,))\n",
        "])\n",
        "train_dataset = datasets.MNIST(root='./data', train=True, download=True, transform=transform)\n",
        "train_loader = DataLoader(train_dataset, batch_size=64, shuffle=True)\n",
        "\n",
        "# Create the U-Net model\n",
        "model = UNet().to(device)\n",
        "\n",
        "# Create the optimizer\n",
        "optimizer = optim.Adam(model.parameters(), lr=1e-3)\n",
        "\n",
        "# Train the model\n",
        "num_epochs = 20\n",
        "for epoch in range(1, num_epochs + 1):\n",
        "    train(model, device, train_loader, optimizer, epoch)\n",
        "\n",
        "# Save some example images\n",
        "with torch.no_grad():\n",
        "    sample = next(iter(train_loader))[0].to(device)\n",
        "    output = model(sample)\n",
        "    save_image(torch.cat([sample, output], dim=0), 'output.png', nrow=8)\n",
        "\n",
        "# Recover the image without blur\n",
        "with torch.no_grad():\n",
        "    blurred_sample = model.forward_blurring(sample)\n",
        "    recovered_sample = model.blur_module.backward_deblur_ddim(blurred_sample)\n",
        "    save_image(torch.cat([sample, recovered_sample], dim=0), 'recovered.png', nrow=8)\n"
      ],
      "metadata": {
        "id": "fJqeb-cXdL8M"
      },
      "execution_count": null,
      "outputs": []
    },
    {
      "cell_type": "code",
      "source": [
        "import matplotlib.pyplot as plt\n",
        "index=5\n",
        "# Create subplots\n",
        "fig, axes = plt.subplots(1, 3)\n",
        "\n",
        "# Plot the first image\n",
        "axes[0].imshow(sample.squeeze().cpu().numpy()[index])\n",
        "axes[0].set_title('Original')\n",
        "\n",
        "\n",
        "# Plot the second image\n",
        "axes[1].imshow(recovered_sample.squeeze().cpu().numpy()[index])\n",
        "axes[1].set_title('Blur')\n",
        "\n",
        "# Plot the third image\n",
        "axes[2].imshow(blurred_sample.squeeze().cpu().numpy()[index])\n",
        "axes[2].set_title('Recovery')\n",
        "\n",
        "# Remove the axes from all subplots\n",
        "for ax in axes:\n",
        "    ax.axis('off')"
      ],
      "metadata": {
        "colab": {
          "base_uri": "https://localhost:8080/",
          "height": 205
        },
        "id": "pa5oHcgIeqkb",
        "outputId": "e969138e-3858-4629-ad16-a4b82ef0aafd"
      },
      "execution_count": null,
      "outputs": [
        {
          "output_type": "display_data",
          "data": {
            "text/plain": [
              "<Figure size 640x480 with 3 Axes>"
            ],
            "image/png": "[encoded data removed]"
          },
          "metadata": {}
        }
      ]
    }
  ]
}