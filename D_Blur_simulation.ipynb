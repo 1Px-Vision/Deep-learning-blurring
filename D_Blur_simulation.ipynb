{
  "nbformat": 4,
  "nbformat_minor": 0,
  "metadata": {
    "colab": {
      "provenance": [],
      "gpuType": "T4"
    },
    "kernelspec": {
      "name": "python3",
      "display_name": "Python 3"
    },
    "language_info": {
      "name": "python"
    },
    "accelerator": "GPU"
  },
  "cells": [
    {
      "cell_type": "code",
      "source": [
        "!pip install wget"
      ],
      "metadata": {
        "id": "cZVLooCCYfbV"
      },
      "execution_count": null,
      "outputs": []
    },
    {
      "cell_type": "code",
      "source": [
        "!wget http://www.ee.surrey.ac.uk/CVSSP/demos/chars74k/EnglishImg.tgz\n",
        "!tar -xzf EnglishImg.tgz\n",
        "!mv English/ chars74k\n",
        "!rm EnglishImg.tgz\n",
        "\n",
        "# some of the images for sample 53 have a different format, just remove them\n",
        "!rm chars74k/Img/GoodImg/Bmp/Sample053/img053-00049.png\n",
        "!rm chars74k/Img/GoodImg/Bmp/Sample053/img053-00028.png\n",
        "!rm chars74k/Img/GoodImg/Bmp/Sample053/img053-00024.png\n",
        "!rm chars74k/Img/GoodImg/Bmp/Sample053/img053-00009.png\n",
        "!rm chars74k/Img/GoodImg/Bmp/Sample053/img053-00035.png"
      ],
      "metadata": {
        "id": "AZ6nWOfBfq2u"
      },
      "execution_count": null,
      "outputs": []
    },
    {
      "cell_type": "code",
      "source": [
        "import glob\n",
        "import numpy as np\n",
        "import random\n",
        "from cv2 import resize\n",
        "from matplotlib.image import imread\n",
        "from matplotlib.pyplot import imshow\n",
        "import cv2\n",
        "\n",
        "\n",
        "SAMPLES = 7700\n",
        "CHARS = \"0123456789abcdefghijklmnopqrstuvwxyzABCDEFGHIJKLMNOPQRSTUVWXYZ\"\n",
        "ROWS = 64\n",
        "COLS = 64\n",
        "\n",
        "images = np.zeros(shape=(SAMPLES, ROWS, COLS))\n",
        "labels = np.zeros(shape=(SAMPLES,), dtype=int)\n",
        "sample_num = 0\n",
        "for sample in sorted(glob.glob('/content/chars74k/Img/GoodImg/Bmp/*')):\n",
        "    for image in glob.glob(sample + '/*'):\n",
        "        original_image = imread(image)\n",
        "        resized_image = resize(original_image, dsize=(COLS, ROWS))\n",
        "        grayscale_image = cv2.cvtColor(resized_image, cv2.COLOR_BGR2GRAY)\n",
        "        images[sample_num] = grayscale_image\n",
        "        labels[sample_num] = int(sample[-2:]) - 1\n",
        "        sample_num += 1"
      ],
      "metadata": {
        "id": "eN0_jVXVf-fj"
      },
      "execution_count": null,
      "outputs": []
    },
    {
      "cell_type": "code",
      "source": [
        "class CustomDataset(Dataset):\n",
        "    def __init__(self, images, transform=None):\n",
        "        self.images = images\n",
        "        self.transform = transform\n",
        "\n",
        "    def __len__(self):\n",
        "        return len(self.images)\n",
        "\n",
        "    def __getitem__(self, index):\n",
        "        image = self.images[index]\n",
        "\n",
        "        # Apply the specified transform if provided\n",
        "        if self.transform:\n",
        "            image = self.transform(image)\n",
        "\n",
        "        return image, 0"
      ],
      "metadata": {
        "id": "ndb88kiZqHzd"
      },
      "execution_count": null,
      "outputs": []
    },
    {
      "cell_type": "code",
      "source": [
        "pil_images = [Image.fromarray(image) for image in images]\n",
        "\n",
        "transform = transforms.Compose([\n",
        "    transforms.ToTensor(),\n",
        "    # Add more transformations if needed\n",
        "])\n",
        "\n",
        "train_dataset = CustomDataset(pil_images, transform=transform)\n",
        "train_loader = DataLoader(train_dataset, batch_size=64, shuffle=True)"
      ],
      "metadata": {
        "id": "J6ULECDPpuGd"
      },
      "execution_count": null,
      "outputs": []
    },
    {
      "cell_type": "markdown",
      "source": [
        "**Pre_train**"
      ],
      "metadata": {
        "id": "0U6WgZukYZIL"
      }
    },
    {
      "cell_type": "code",
      "source": [
        "import torch\n",
        "import torch.nn as nn\n",
        "import torch.optim as optim\n",
        "from torch.utils.data import DataLoader\n",
        "from torchvision import datasets, transforms\n",
        "from torchvision.utils import save_image\n",
        "import cv2\n",
        "from torch.utils.data import Dataset, DataLoader\n",
        "from PIL import Image\n",
        "import matplotlib.pyplot as plt"
      ],
      "metadata": {
        "id": "AQtqQ0EJhWos"
      },
      "execution_count": null,
      "outputs": []
    },
    {
      "cell_type": "code",
      "source": [
        "def tensor_to_image(tensor):\n",
        "    image = tensor.cpu().numpy()\n",
        "    image = np.transpose(image, (1, 2, 0))\n",
        "    image = cv2.normalize(image, None, 0, 255, cv2.NORM_MINMAX, cv2.CV_8UC1)\n",
        "    return image"
      ],
      "metadata": {
        "id": "1kpjlIUKvyS8"
      },
      "execution_count": null,
      "outputs": []
    },
    {
      "cell_type": "code",
      "source": [
        "# Define the U-Net architecture\n",
        "class UNet(nn.Module):\n",
        "    def __init__(self):\n",
        "        super(UNet, self).__init__()\n",
        "        self.encoder = nn.Sequential(\n",
        "            nn.Conv2d(1, 64, kernel_size=3, stride=1, padding=1),\n",
        "            nn.ReLU(inplace=True),\n",
        "            nn.Conv2d(64, 64, kernel_size=3, stride=1, padding=1),\n",
        "            nn.ReLU(inplace=True),\n",
        "            nn.MaxPool2d(kernel_size=2, stride=2)\n",
        "        )\n",
        "        self.decoder = nn.Sequential(\n",
        "            nn.Conv2d(64, 64, kernel_size=3, stride=1, padding=1),\n",
        "            nn.ReLU(inplace=True),\n",
        "            nn.Conv2d(64, 1, kernel_size=3, stride=1, padding=1),\n",
        "            nn.ReLU(inplace=True),\n",
        "            nn.Upsample(scale_factor=2, mode='bilinear', align_corners=True)\n",
        "        )\n",
        "        self.blur_module = BackwardBlurDDPM()\n",
        "\n",
        "    def forward_blurring(self, x):\n",
        "        blurred_x = self.blur_module(x)\n",
        "        return blurred_x\n",
        "\n",
        "    def forward(self, x):\n",
        "        x1 = self.encoder(x)\n",
        "        x2 = self.decoder(x1)\n",
        "        return x2\n",
        "\n",
        "# Define the backward blur diffusion module\n",
        "class BackwardBlurDDPM(nn.Module):\n",
        "    def __init__(self):\n",
        "        super(BackwardBlurDDPM, self).__init__()\n",
        "        # Define the blur kernel\n",
        "        self.kernel = nn.Parameter(torch.ones(1, 1, 7, 7) / 49)\n",
        "\n",
        "    def forward(self, x):\n",
        "        # Apply backward blur diffusion\n",
        "        blurred_x = nn.functional.conv2d(x, self.kernel, padding=1, groups=1)\n",
        "        return blurred_x\n",
        "\n",
        "    def backward_deblur_ddim(self, blurred_x):\n",
        "        # Apply backward deblurring using the blurred image\n",
        "        deblurred_x = nn.functional.conv_transpose2d(blurred_x, self.kernel, padding=1, groups=1)\n",
        "        return deblurred_x\n",
        "\n",
        "# Define the training loop\n",
        "def train(model, device, train_loader, optimizer, epoch):\n",
        "    model.train()\n",
        "    criterion = nn.MSELoss()\n",
        "    for batch_idx, (data, _) in enumerate(train_loader):\n",
        "        data = data.to(device)\n",
        "        optimizer.zero_grad()\n",
        "        output = model(data)\n",
        "        loss = criterion(output, data)\n",
        "        loss.backward()\n",
        "        optimizer.step()\n",
        "        if batch_idx % 100 == 0:\n",
        "            print('Train Epoch: {} [{}/{} ({:.0f}%)]\\tLoss: {:.6f}'.format(\n",
        "                epoch, batch_idx * len(data), len(train_loader.dataset),\n",
        "                100. * batch_idx / len(train_loader), loss.item()))\n",
        "\n"
      ],
      "metadata": {
        "id": "fJqeb-cXdL8M"
      },
      "execution_count": null,
      "outputs": []
    },
    {
      "cell_type": "code",
      "source": [
        "# Define the device\n",
        "device = torch.device(\"cuda\" if torch.cuda.is_available() else \"cpu\")\n",
        "\n",
        "# Load the MNIST dataset\n",
        "transform = transforms.Compose([\n",
        "    transforms.ToTensor(),\n",
        "    transforms.Normalize((0.1307,), (0.3081,))\n",
        "])\n",
        "#train_dataset = datasets.MNIST(root='./data', train=True, download=True, transform=transform)\n",
        "#train_loader = DataLoader(train_dataset, batch_size=64, shuffle=True)\n",
        "\n",
        "# Create the U-Net model\n",
        "model = UNet().to(device)\n",
        "\n",
        "# Create the optimizer\n",
        "optimizer = optim.Adam(model.parameters(), lr=1e-3)\n",
        "\n",
        "generated_images = []\n",
        "remove_blur = []\n",
        "blur_images=[]\n",
        "# Train the model\n",
        "num_epochs = 50\n",
        "for epoch in range(1, num_epochs + 1):\n",
        "    train(model, device, train_loader, optimizer, epoch)\n",
        "\n",
        "# Save some example images\n",
        "with torch.no_grad():\n",
        "    sample = next(iter(train_loader))[0].to(device)\n",
        "    output = model(sample)\n",
        "    save_image(torch.cat([sample, output], dim=0), 'output.png', nrow=8)\n",
        "    generated_images.append(tensor_to_image(sample[0]))\n",
        "\n",
        "# Recover the image without blur\n",
        "with torch.no_grad():\n",
        "    blurred_sample = model.forward_blurring(sample)\n",
        "    recovered_sample = model.blur_module.backward_deblur_ddim(blurred_sample)\n",
        "    save_image(torch.cat([sample, recovered_sample], dim=0), 'recovered.png', nrow=8)\n",
        "    remove_blur.append(tensor_to_image(recovered_sample[0]))\n",
        "    blur_images.append(tensor_to_image(blurred_sample[0]))\n"
      ],
      "metadata": {
        "id": "cKdB0GEomyXc"
      },
      "execution_count": null,
      "outputs": []
    },
    {
      "cell_type": "code",
      "source": [
        "# Create subplots\n",
        "fig, axes = plt.subplots(1, 3)\n",
        "\n",
        "# Plot the first image\n",
        "axes[0].imshow(generated_images[0].squeeze(), cmap='gray')\n",
        "axes[0].set_title('Original')\n",
        "\n",
        "\n",
        "# Plot the second image\n",
        "axes[1].imshow(remove_blur[0].squeeze(), cmap='gray')\n",
        "axes[1].set_title('Blur')\n",
        "\n",
        "# Plot the third image\n",
        "axes[2].imshow(blur_images[0].squeeze(), cmap='gray')\n",
        "axes[2].set_title('Recovery')\n",
        "\n",
        "# Remove the axes from all subplots\n",
        "for ax in axes:\n",
        "    ax.axis('off')"
      ],
      "metadata": {
        "id": "q6gptir0ItxD",
        "colab": {
          "base_uri": "https://localhost:8080/",
          "height": 205
        },
        "outputId": "b83e7b9d-0700-4255-c725-a42480d5ce14"
      },
      "execution_count": null,
      "outputs": [
        {
          "output_type": "display_data",
          "data": {
            "text/plain": [
              "<Figure size 640x480 with 3 Axes>"
            ],
            "image/png": "[encoded data removed]"
          },
          "metadata": {}
        }
      ]
    },
    {
      "cell_type": "code",
      "source": [
        "torch_tensor = torch.from_numpy(Letter_s)\n",
        "torch_tensor = torch_tensor.unsqueeze(0).unsqueeze(0)"
      ],
      "metadata": {
        "id": "CAf692SXI2_F"
      },
      "execution_count": null,
      "outputs": []
    },
    {
      "cell_type": "code",
      "source": [
        "import matplotlib.pyplot as plt\n",
        "index=23\n",
        "# Create subplots\n",
        "fig, axes = plt.subplots(1, 3)\n",
        "\n",
        "# Plot the first image\n",
        "axes[0].imshow(sample.squeeze().cpu().numpy()[index],cmap='gray')\n",
        "axes[0].set_title('Original')\n",
        "\n",
        "\n",
        "# Plot the second image\n",
        "axes[1].imshow(recovered_sample.squeeze().cpu().numpy()[index],cmap='gray')\n",
        "axes[1].set_title('Blur')\n",
        "\n",
        "# Plot the third image\n",
        "axes[2].imshow(blurred_sample.squeeze().cpu().numpy()[index],cmap='gray')\n",
        "axes[2].set_title('Recovery')\n",
        "\n",
        "# Remove the axes from all subplots\n",
        "for ax in axes:\n",
        "    ax.axis('off')"
      ],
      "metadata": {
        "id": "pa5oHcgIeqkb"
      },
      "execution_count": null,
      "outputs": []
    },
    {
      "cell_type": "code",
      "source": [
        "import glob\n",
        "import numpy as np\n",
        "import random\n",
        "from cv2 import resize\n",
        "from matplotlib.image import imread\n",
        "from matplotlib.pyplot import imshow\n",
        "import cv2\n",
        "\n",
        "ROWS = 128\n",
        "COLS = 128\n",
        "\n",
        "E1 = imread('/content/Simulation/E1.png')\n",
        "E1 = resize(E1, dsize=(COLS, ROWS))\n",
        "E1 = cv2.cvtColor(E1, cv2.COLOR_BGR2GRAY)\n",
        "\n",
        "E2 = imread('/content/Simulation/E2.png')\n",
        "E2 = resize(E2, dsize=(COLS, ROWS))\n",
        "E2 = cv2.cvtColor(E2, cv2.COLOR_BGR2GRAY)\n",
        "\n",
        "E3 = imread('/content/Simulation/E3.png')\n",
        "E3 = resize(E3, dsize=(COLS, ROWS))\n",
        "E3 = cv2.cvtColor(E3, cv2.COLOR_BGR2GRAY)\n",
        "\n",
        "\n",
        "P1 = imread('/content/Simulation/P1.png')\n",
        "P1 = resize(P1, dsize=(COLS, ROWS))\n",
        "P1 = cv2.cvtColor(P1, cv2.COLOR_BGR2GRAY)\n",
        "\n",
        "P2 = imread('/content/Simulation/P2.png')\n",
        "P2 = resize(P2, dsize=(COLS, ROWS))\n",
        "P2 = cv2.cvtColor(P2, cv2.COLOR_BGR2GRAY)\n",
        "\n",
        "P3 = imread('/content/Simulation/P3.png')\n",
        "P3 = resize(P3, dsize=(COLS, ROWS))\n",
        "P3 = cv2.cvtColor(P3, cv2.COLOR_BGR2GRAY)\n",
        "\n",
        "\n",
        "R1 = imread('/content/Simulation/R1.png')\n",
        "R1 = resize(R1, dsize=(COLS, ROWS))\n",
        "R1 = cv2.cvtColor(R1, cv2.COLOR_BGR2GRAY)\n",
        "\n",
        "R2 = imread('/content/Simulation/R2.png')\n",
        "R2 = resize(R2, dsize=(COLS, ROWS))\n",
        "R2 = cv2.cvtColor(R2, cv2.COLOR_BGR2GRAY)\n",
        "\n",
        "R3 = imread('/content/Simulation/R3.png')\n",
        "R3 = resize(R3, dsize=(COLS, ROWS))\n",
        "R3 = cv2.cvtColor(R3, cv2.COLOR_BGR2GRAY)\n",
        "\n",
        "\n",
        "S1 = imread('/content/Simulation/S1.png')\n",
        "S1 = resize(S1, dsize=(COLS, ROWS))\n",
        "S1 = cv2.cvtColor(S1, cv2.COLOR_BGR2GRAY)\n",
        "\n",
        "S2 = imread('/content/Simulation/S2.png')\n",
        "S2 = resize(S2, dsize=(COLS, ROWS))\n",
        "S2 = cv2.cvtColor(S2, cv2.COLOR_BGR2GRAY)\n",
        "\n",
        "S3 = imread('/content/Simulation/S3.png')\n",
        "S3 = resize(S3, dsize=(COLS, ROWS))\n",
        "S3 = cv2.cvtColor(S3, cv2.COLOR_BGR2GRAY)\n",
        "\n",
        "T1 = imread('/content/Simulation/T1.png')\n",
        "T1 = resize(T1, dsize=(COLS, ROWS))\n",
        "T1 = cv2.cvtColor(T1, cv2.COLOR_BGR2GRAY)\n",
        "\n",
        "T2 = imread('/content/Simulation/T2.png')\n",
        "T2 = resize(T2, dsize=(COLS, ROWS))\n",
        "T2 = cv2.cvtColor(T2, cv2.COLOR_BGR2GRAY)\n",
        "\n",
        "T3 = imread('/content/Simulation/T3.png')\n",
        "T3 = resize(T3, dsize=(COLS, ROWS))\n",
        "T3 = cv2.cvtColor(T3, cv2.COLOR_BGR2GRAY)\n",
        "\n",
        "V1 = imread('/content/Simulation/V1.png')\n",
        "V1 = resize(V1, dsize=(COLS, ROWS))\n",
        "V1 = cv2.cvtColor(V1, cv2.COLOR_BGR2GRAY)\n",
        "\n",
        "V2 = imread('/content/Simulation/V2.png')\n",
        "V2 = resize(V2, dsize=(COLS, ROWS))\n",
        "V2 = cv2.cvtColor(V2, cv2.COLOR_BGR2GRAY)\n",
        "\n",
        "V3 = imread('/content/Simulation/V3.png')\n",
        "V3 = resize(V3, dsize=(COLS, ROWS))\n",
        "V3 = cv2.cvtColor(V3, cv2.COLOR_BGR2GRAY)\n"
      ],
      "metadata": {
        "id": "h0zPj_roQdac"
      },
      "execution_count": null,
      "outputs": []
    },
    {
      "cell_type": "code",
      "source": [
        "import matplotlib.pyplot as plt\n",
        "\n",
        "fig, axes = plt.subplots(3, 6, figsize=(16, 16))\n",
        "images = [R1, E1, S1, V1, T1, P1, R2, E2, S2, V2, T2, P2, R3, E3, S3, V3, T3, P3]\n",
        "\n",
        "for i, ax in enumerate(axes.flat):\n",
        "  ax.imshow(images[i], cmap='gray')\n",
        "  ax.axis('off')\n",
        "\n",
        "plt.show()"
      ],
      "metadata": {
        "id": "wkvCjZvFU4vP"
      },
      "execution_count": null,
      "outputs": []
    },
    {
      "cell_type": "code",
      "source": [
        "import cv2\n",
        "import numpy as np\n",
        "\n",
        "def progressive_diffusion_blur(image, num_iterations=10, sigma=2.0):\n",
        "    blurred_image = np.float32(image.copy())\n",
        "\n",
        "    for _ in range(num_iterations):\n",
        "        blurred_image = cv2.GaussianBlur(blurred_image, (0, 0), sigma)\n",
        "        sigma *= 1.1\n",
        "\n",
        "    return blurred_image.astype(np.uint8)\n",
        "\n",
        "# Load the input image\n",
        "input_image = cv2.imread('/content/T1.png')\n",
        "\n",
        "# Apply progressive diffusion blur\n",
        "blurred_image = progressive_diffusion_blur(input_image)\n",
        "\n",
        "# Save blurred image\n",
        "cv2.imwrite('blurred_image.jpg', blurred_image)\n",
        "\n",
        "# Save blurred image frames into a video\n",
        "height, width, _ = blurred_image.shape\n",
        "video_writer = cv2.VideoWriter('output_video.mp4', cv2.VideoWriter_fourcc(*'mp4v'), 30, (width, height))\n",
        "\n",
        "# Generate frames for the video\n",
        "for _ in range(100):  # Change the range or add condition to control the number of frames\n",
        "    blurred_image = progressive_diffusion_blur(blurred_image)\n",
        "    video_writer.write(blurred_image)\n",
        "\n",
        "# Release the video writer and close windows\n",
        "video_writer.release()"
      ],
      "metadata": {
        "id": "PDNFcSpx1gEL"
      },
      "execution_count": null,
      "outputs": []
    },
    {
      "cell_type": "code",
      "source": [
        "import cv2\n",
        "import numpy as np\n",
        "\n",
        "def blur_image(image, sigma):\n",
        "    # Apply Gaussian blur to the image\n",
        "    blurred = cv2.GaussianBlur(image, (0, 0), sigma)\n",
        "\n",
        "    return blurred\n",
        "\n",
        "def deblur_image(blurred, sigma, num_iterations):\n",
        "    # Apply inverse diffusion process to deblur the image\n",
        "    for i in range(num_iterations):\n",
        "        diff = cv2.GaussianBlur(blurred, (5,5), 0.1)\n",
        "        blurred = blurred- diff\n",
        "\n",
        "    return blurred\n",
        "\n",
        "# Load the image\n",
        "image = cv2.imread('/content/R1.png')\n",
        "\n",
        "# Convert the image to float32 for calculations\n",
        "image = image.astype(np.float32) / 255.0\n",
        "\n",
        "# Set the initial blur sigma and the number of diffusion iterations\n",
        "initial_sigma = 1\n",
        "num_iterations = 100\n",
        "\n",
        "# Create a VideoWriter object to save the video\n",
        "output_path = 'blur_video.mp4'\n",
        "output_path_1 = 'deblur_video.mp4'\n",
        "frame_size = (image.shape[1], image.shape[0])\n",
        "fps = 10\n",
        "fourcc = cv2.VideoWriter_fourcc(*'mp4v')\n",
        "video_writer = cv2.VideoWriter(output_path, fourcc, fps, frame_size)\n",
        "video_writer_1 = cv2.VideoWriter(output_path_1, fourcc, fps, frame_size)\n",
        "# Apply progressive diffusion blurring and deblurring\n",
        "blurred_image = image.copy()\n",
        "for i in range(num_iterations):\n",
        "    # Blur the image\n",
        "    blurred_image = blur_image(blurred_image, initial_sigma)\n",
        "\n",
        "    # Convert the blurred image back to uint8 for saving/displaying\n",
        "    blurred_image_uint8 = (blurred_image * 255.0).astype(np.uint8)\n",
        "\n",
        "    # Write the blurred frame to the video\n",
        "    video_writer.write(blurred_image_uint8)\n",
        "\n",
        "    # Show the blurred image\n",
        "    #cv2.imshow('Blurred Image', blurred_image_uint8)\n",
        "    cv2.waitKey(5000)  # Pause for a short duration (e.g., 100ms)\n",
        "\n",
        "    # Deblur the image\n",
        "    deblurred_image = deblur_image(blurred_image, initial_sigma, 1)\n",
        "\n",
        "    # Convert the deblurred image back to uint8 for saving/displaying\n",
        "    deblurred_image_uint8 = (deblurred_image * 255.0).astype(np.uint8)\n",
        "\n",
        "    # Write the deblurred frame to the video\n",
        "    video_writer_1.write(deblurred_image_uint8)\n",
        "\n",
        "    # Show the deblurred image\n",
        "    #cv2.imshow('Deblurred Image', deblurred_image_uint8)\n",
        "    cv2.waitKey(5000)  # Pause for a short duration (e.g., 100ms)\n",
        "\n",
        "# Release the video writer and destroy any remaining windows\n",
        "video_writer.release()\n",
        "video_writer_1.release()\n"
      ],
      "metadata": {
        "id": "KUZBPNMB2zMb"
      },
      "execution_count": null,
      "outputs": []
    }
  ]
}